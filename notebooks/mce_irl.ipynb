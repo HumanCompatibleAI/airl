{
 "cells": [
  {
   "cell_type": "markdown",
   "metadata": {},
   "source": [
    "# Demonstration of MCE IRL code & environments\n",
    "\n",
    "This is just tabular environments & vanilla MCE IRL."
   ]
  },
  {
   "cell_type": "code",
   "execution_count": 1,
   "metadata": {},
   "outputs": [],
   "source": [
    "%matplotlib inline\n",
    "%load_ext autoreload\n",
    "%autoreload 2\n",
    "\n",
    "import copy\n",
    "\n",
    "import numpy as np\n",
    "import seaborn as sns\n",
    "import pandas as pd\n",
    "import matplotlib.pyplot as plt\n",
    "import scipy\n",
    "\n",
    "import imitation.tabular_irl as tirl\n",
    "import imitation.model_env as menv\n",
    "\n",
    "sns.set(context='notebook')"
   ]
  },
  {
   "cell_type": "markdown",
   "metadata": {},
   "source": [
    "# IRL on a random MDP\n",
    "\n",
    "Testing both linear reward models & MLP reward models."
   ]
  },
  {
   "cell_type": "code",
   "execution_count": 2,
   "metadata": {},
   "outputs": [],
   "source": [
    "mdp = menv.RandomMDP(\n",
    "    n_states=16,\n",
    "    n_actions=3,\n",
    "    branch_factor=2,\n",
    "    horizon=10,\n",
    "    random_obs=True,\n",
    "    obs_dim=5,\n",
    "    generator_seed=42)\n",
    "V, Q, pi = tirl.mce_partition_fh(mdp)\n",
    "Dt, D = tirl.mce_occupancy_measures(mdp, pi=pi)\n",
    "demo_counts = D @ mdp.observation_matrix\n",
    "obs_dim, = demo_counts.shape"
   ]
  },
  {
   "cell_type": "code",
   "execution_count": 3,
   "metadata": {},
   "outputs": [
    {
     "name": "stdout",
     "output_type": "stream",
     "text": [
      "Occupancy measure error@iter   0: 2.545004 (||params||=3.049661, ||grad||=30.197654, ||E[dr/dw]||=14.742529)\n"
     ]
    }
   ],
   "source": [
    "rmodel = tirl.LinearRewardModel(obs_dim)\n",
    "opt = tirl.SGD(rmodel, alpha_sched=0.05)\n",
    "final_weights, D_fake = tirl.maxent_irl(\n",
    "    mdp, opt, rmodel, D, linf_eps=1e-1)"
   ]
  },
  {
   "cell_type": "code",
   "execution_count": 4,
   "metadata": {},
   "outputs": [
    {
     "name": "stderr",
     "output_type": "stream",
     "text": [
      "/home/sam/.virtualenvs/ray-irl/lib/python3.6/site-packages/jax/lib/xla_bridge.py:144: UserWarning: No GPU/TPU found, falling back to CPU.\n",
      "  warnings.warn('No GPU/TPU found, falling back to CPU.')\n"
     ]
    },
    {
     "name": "stdout",
     "output_type": "stream",
     "text": [
      "Occupancy measure error@iter   0: 2.576432 (||params||=9.398392, ||grad||=55.881441, ||E[dr/dw]||=26.533055)\n"
     ]
    }
   ],
   "source": [
    "rmodel = tirl.MLPRewardModel(obs_dim, [32, 32])\n",
    "opt = tirl.SGD(rmodel, alpha_sched=0.5)\n",
    "final_weights, D_fake = tirl.maxent_irl(\n",
    "    mdp, opt, rmodel, D, linf_eps=1e-2)"
   ]
  },
  {
   "cell_type": "markdown",
   "metadata": {},
   "source": [
    "# Same thing, but on grid world\n",
    "\n",
    "The true reward here is not linear in the reduced feature space (i.e $(x,y)$ coordinates). Finding an appropriate linear reward is impossible (as I will demonstration), but an MLP should Just Work(tm)."
   ]
  },
  {
   "cell_type": "code",
   "execution_count": 5,
   "metadata": {},
   "outputs": [
    {
     "name": "stdout",
     "output_type": "stream",
     "text": [
      "Occupancy measure error@iter   0: 1.448530 (||params||=2.072475, ||grad||=2.404023, ||E[dr/dw]||=3.126840)\n",
      "Occupancy measure error@iter  100: 1.144563 (||params||=20.502038, ||grad||=0.016709, ||E[dr/dw]||=5.174918)\n",
      "Occupancy measure error@iter  200: 1.148081 (||params||=21.712552, ||grad||=0.001352, ||E[dr/dw]||=5.183923)\n",
      "Occupancy measure error@iter  300: 1.147188 (||params||=22.445078, ||grad||=0.000857, ||E[dr/dw]||=5.184392)\n",
      "Occupancy measure error@iter  400: 1.146649 (||params||=22.918414, ||grad||=0.000568, ||E[dr/dw]||=5.184642)\n",
      "Occupancy measure error@iter  500: 1.146309 (||params||=23.235560, ||grad||=0.000387, ||E[dr/dw]||=5.184800)\n",
      "Occupancy measure error@iter  600: 1.146086 (||params||=23.452842, ||grad||=0.000268, ||E[dr/dw]||=5.184903)\n",
      "Occupancy measure error@iter  700: 1.145936 (||params||=23.603868, ||grad||=0.000187, ||E[dr/dw]||=5.184973)\n",
      "Occupancy measure error@iter  800: 1.145833 (||params||=23.709860, ||grad||=0.000132, ||E[dr/dw]||=5.185020)\n"
     ]
    },
    {
     "data": {
      "image/png": "[encoded data removed]",
      "text/plain": [
       "<Figure size 432x288 with 1 Axes>"
      ]
     },
     "metadata": {
      "needs_background": "light"
     },
     "output_type": "display_data"
    },
    {
     "data": {
      "image/png": "[encoded data removed]",
      "text/plain": [
       "<Figure size 432x288 with 1 Axes>"
      ]
     },
     "metadata": {
      "needs_background": "light"
     },
     "output_type": "display_data"
    },
    {
     "data": {
      "image/png": "[encoded data removed]",
      "text/plain": [
       "<Figure size 432x288 with 2 Axes>"
      ]
     },
     "metadata": {
      "needs_background": "light"
     },
     "output_type": "display_data"
    }
   ],
   "source": [
    "# Same experiments, but on grid world\n",
    "mdp = menv.CliffWorld(\n",
    "    width=7,\n",
    "    height=4,\n",
    "    horizon=8,\n",
    "    use_xy_obs=True)\n",
    "V, Q, pi = tirl.mce_partition_fh(mdp)\n",
    "Dt, D = tirl.mce_occupancy_measures(mdp, pi=pi)\n",
    "demo_counts = D @ mdp.observation_matrix\n",
    "obs_dim, = demo_counts.shape\n",
    "rmodel = tirl.LinearRewardModel(obs_dim)\n",
    "opt = tirl.AMSGrad(rmodel, alpha_sched=1)\n",
    "final_weights, D_fake = tirl.maxent_irl(\n",
    "    mdp, opt, rmodel, D, linf_eps=0.1)\n",
    "\n",
    "mdp.draw_value_vec(D)\n",
    "plt.title(\"Cliff World $p(s)$\")\n",
    "plt.xlabel('x-coord')\n",
    "plt.ylabel('y-coord')\n",
    "plt.show()\n",
    "\n",
    "mdp.draw_value_vec(D_fake)\n",
    "plt.title(\"Occupancy for linear reward function\")\n",
    "plt.show()\n",
    "plt.subplot(1, 2, 1)\n",
    "mdp.draw_value_vec(rmodel.out(mdp.observation_matrix))\n",
    "plt.title(\"Inferred reward\")\n",
    "plt.subplot(1, 2, 2)\n",
    "mdp.draw_value_vec(mdp.reward_matrix)\n",
    "plt.title(\"True reward\")\n",
    "plt.show()"
   ]
  },
  {
   "cell_type": "code",
   "execution_count": 6,
   "metadata": {},
   "outputs": [
    {
     "name": "stdout",
     "output_type": "stream",
     "text": [
      "Occupancy measure error@iter   0: 1.734850 (||params||=3.436170, ||grad||=7.315571, ||E[dr/dw]||=13.208749)\n",
      "Occupancy measure error@iter  250: 0.399144 (||params||=8.228056, ||grad||=0.576444, ||E[dr/dw]||=41.590051)\n",
      "Occupancy measure error@iter  500: 0.179033 (||params||=10.103688, ||grad||=0.334714, ||E[dr/dw]||=49.168805)\n",
      "Occupancy measure error@iter  750: 0.104646 (||params||=11.412536, ||grad||=0.196661, ||E[dr/dw]||=54.055745)\n",
      "Occupancy measure error@iter  1000: 0.076170 (||params||=12.342168, ||grad||=0.156521, ||E[dr/dw]||=56.786908)\n",
      "Occupancy measure error@iter  1250: 0.059434 (||params||=13.036484, ||grad||=0.113909, ||E[dr/dw]||=59.026142)\n",
      "Occupancy measure error@iter  1500: 0.048378 (||params||=13.594294, ||grad||=0.116399, ||E[dr/dw]||=60.657570)\n",
      "Occupancy measure error@iter  1750: 0.040731 (||params||=14.061352, ||grad||=0.087111, ||E[dr/dw]||=62.685958)\n",
      "Occupancy measure error@iter  2000: 0.034844 (||params||=14.468188, ||grad||=0.104398, ||E[dr/dw]||=65.179337)\n",
      "Occupancy measure error@iter  2250: 0.030254 (||params||=14.847976, ||grad||=0.101297, ||E[dr/dw]||=66.597399)\n"
     ]
    },
    {
     "data": {
      "image/png": "[encoded data removed]",
      "text/plain": [
       "<Figure size 432x288 with 1 Axes>"
      ]
     },
     "metadata": {
      "needs_background": "light"
     },
     "output_type": "display_data"
    },
    {
     "data": {
      "image/png": "[encoded data removed]",
      "text/plain": [
       "<Figure size 432x288 with 2 Axes>"
      ]
     },
     "metadata": {
      "needs_background": "light"
     },
     "output_type": "display_data"
    }
   ],
   "source": [
    "rmodel = tirl.MLPRewardModel(obs_dim, [1024,], activation='Relu')\n",
    "opt = tirl.AMSGrad(rmodel, alpha_sched=1e-3)\n",
    "final_weights, D_fake_mlp = tirl.maxent_irl(\n",
    "    mdp, opt, rmodel, D, linf_eps=3e-2, print_interval=250)\n",
    "mdp.draw_value_vec(D_fake_mlp)\n",
    "plt.title(\"Occupancy for MLP reward function\")\n",
    "plt.show()\n",
    "plt.subplot(1, 2, 1)\n",
    "mdp.draw_value_vec(rmodel.out(mdp.observation_matrix))\n",
    "plt.title(\"Inferred reward\")\n",
    "plt.subplot(1, 2, 2)\n",
    "mdp.draw_value_vec(mdp.reward_matrix)\n",
    "plt.title(\"True reward\")\n",
    "plt.show()"
   ]
  },
  {
   "cell_type": "markdown",
   "metadata": {},
   "source": [
    "Notice that the inferred reward is absolutely nothing like the true reward, but the occupancy measure still (roughly) matches the true occupancy measure."
   ]
  }
 ],
 "metadata": {
  "kernelspec": {
   "display_name": "Python 3",
   "language": "python",
   "name": "python3"
  },
  "language_info": {
   "codemirror_mode": {
    "name": "ipython",
    "version": 3
   },
   "file_extension": ".py",
   "mimetype": "text/x-python",
   "name": "python",
   "nbconvert_exporter": "python",
   "pygments_lexer": "ipython3",
   "version": "3.6.7"
  }
 },
 "nbformat": 4,
 "nbformat_minor": 2
}
