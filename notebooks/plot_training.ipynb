{
 "cells": [
  {
   "cell_type": "code",
   "execution_count": 1,
   "metadata": {
    "scrolled": true
   },
   "outputs": [],
   "source": [
    "from imitation.scripts.train import train_exp\n",
    "import tensorflow as tf\n",
    "import os\n",
    "os.chdir(\"../\")"
   ]
  },
  {
   "cell_type": "code",
   "execution_count": 2,
   "metadata": {
    "scrolled": false
   },
   "outputs": [
    {
     "ename": "KeyError",
     "evalue": "\"'init_trainer_kwargs' not in preset for ConfigScope. Available options are: {'_log'}\"",
     "output_type": "error",
     "traceback": [
      "\u001b[0;31m---------------------------------------------------------------------------\u001b[0m",
      "\u001b[0;31mKeyError\u001b[0m                                  Traceback (most recent call last)",
      "\u001b[0;32m<ipython-input-2-e3c07663a590>\u001b[0m in \u001b[0;36m<module>\u001b[0;34m\u001b[0m\n\u001b[1;32m      7\u001b[0m \u001b[0;34m\u001b[0m\u001b[0m\n\u001b[1;32m      8\u001b[0m res = train_exp.run(config_updates=dict(n_epochs_per_plot=1, n_episodes_per_reward_data=1),\n\u001b[0;32m----> 9\u001b[0;31m                     named_configs=['cartpole_gail'])\n\u001b[0m",
      "\u001b[0;32m~/repos/imitation/env/lib/python3.6/site-packages/sacred/experiment.py\u001b[0m in \u001b[0;36mrun\u001b[0;34m(self, command_name, config_updates, named_configs, meta_info, options)\u001b[0m\n\u001b[1;32m    206\u001b[0m         \"\"\"\n\u001b[1;32m    207\u001b[0m         run = self._create_run(command_name, config_updates, named_configs,\n\u001b[0;32m--> 208\u001b[0;31m                                meta_info, options)\n\u001b[0m\u001b[1;32m    209\u001b[0m         \u001b[0mrun\u001b[0m\u001b[0;34m(\u001b[0m\u001b[0;34m)\u001b[0m\u001b[0;34m\u001b[0m\u001b[0;34m\u001b[0m\u001b[0m\n\u001b[1;32m    210\u001b[0m         \u001b[0;32mreturn\u001b[0m \u001b[0mrun\u001b[0m\u001b[0;34m\u001b[0m\u001b[0;34m\u001b[0m\u001b[0m\n",
      "\u001b[0;32m~/repos/imitation/env/lib/python3.6/site-packages/sacred/experiment.py\u001b[0m in \u001b[0;36m_create_run\u001b[0;34m(self, command_name, config_updates, named_configs, meta_info, options)\u001b[0m\n\u001b[1;32m    431\u001b[0m                          \u001b[0mforce\u001b[0m\u001b[0;34m=\u001b[0m\u001b[0moptions\u001b[0m\u001b[0;34m.\u001b[0m\u001b[0mget\u001b[0m\u001b[0;34m(\u001b[0m\u001b[0mForceOption\u001b[0m\u001b[0;34m.\u001b[0m\u001b[0mget_flag\u001b[0m\u001b[0;34m(\u001b[0m\u001b[0;34m)\u001b[0m\u001b[0;34m,\u001b[0m \u001b[0;32mFalse\u001b[0m\u001b[0;34m)\u001b[0m\u001b[0;34m,\u001b[0m\u001b[0;34m\u001b[0m\u001b[0;34m\u001b[0m\u001b[0m\n\u001b[1;32m    432\u001b[0m                          log_level=options.get(LoglevelOption.get_flag(),\n\u001b[0;32m--> 433\u001b[0;31m                                                None))\n\u001b[0m\u001b[1;32m    434\u001b[0m         \u001b[0mrun\u001b[0m\u001b[0;34m.\u001b[0m\u001b[0mmeta_info\u001b[0m\u001b[0;34m[\u001b[0m\u001b[0;34m'command'\u001b[0m\u001b[0;34m]\u001b[0m \u001b[0;34m=\u001b[0m \u001b[0mcommand_name\u001b[0m\u001b[0;34m\u001b[0m\u001b[0;34m\u001b[0m\u001b[0m\n\u001b[1;32m    435\u001b[0m         \u001b[0mrun\u001b[0m\u001b[0;34m.\u001b[0m\u001b[0mmeta_info\u001b[0m\u001b[0;34m[\u001b[0m\u001b[0;34m'options'\u001b[0m\u001b[0;34m]\u001b[0m \u001b[0;34m=\u001b[0m \u001b[0moptions\u001b[0m\u001b[0;34m\u001b[0m\u001b[0;34m\u001b[0m\u001b[0m\n",
      "\u001b[0;32m~/repos/imitation/env/lib/python3.6/site-packages/sacred/initialize.py\u001b[0m in \u001b[0;36mcreate_run\u001b[0;34m(experiment, command_name, config_updates, named_configs, force, log_level)\u001b[0m\n\u001b[1;32m    366\u001b[0m         \u001b[0mscaff\u001b[0m\u001b[0;34m,\u001b[0m \u001b[0mcfg_name\u001b[0m \u001b[0;34m=\u001b[0m \u001b[0mget_scaffolding_and_config_name\u001b[0m\u001b[0;34m(\u001b[0m\u001b[0mncfg\u001b[0m\u001b[0;34m,\u001b[0m \u001b[0mscaffolding\u001b[0m\u001b[0;34m)\u001b[0m\u001b[0;34m\u001b[0m\u001b[0;34m\u001b[0m\u001b[0m\n\u001b[1;32m    367\u001b[0m         \u001b[0mscaff\u001b[0m\u001b[0;34m.\u001b[0m\u001b[0mgather_fallbacks\u001b[0m\u001b[0;34m(\u001b[0m\u001b[0;34m)\u001b[0m\u001b[0;34m\u001b[0m\u001b[0;34m\u001b[0m\u001b[0m\n\u001b[0;32m--> 368\u001b[0;31m         \u001b[0mncfg_updates\u001b[0m \u001b[0;34m=\u001b[0m \u001b[0mscaff\u001b[0m\u001b[0;34m.\u001b[0m\u001b[0mrun_named_config\u001b[0m\u001b[0;34m(\u001b[0m\u001b[0mcfg_name\u001b[0m\u001b[0;34m)\u001b[0m\u001b[0;34m\u001b[0m\u001b[0;34m\u001b[0m\u001b[0m\n\u001b[0m\u001b[1;32m    369\u001b[0m         \u001b[0mdistribute_presets\u001b[0m\u001b[0;34m(\u001b[0m\u001b[0mprefixes\u001b[0m\u001b[0;34m,\u001b[0m \u001b[0mscaffolding\u001b[0m\u001b[0;34m,\u001b[0m \u001b[0mncfg_updates\u001b[0m\u001b[0;34m)\u001b[0m\u001b[0;34m\u001b[0m\u001b[0;34m\u001b[0m\u001b[0m\n\u001b[1;32m    370\u001b[0m         \u001b[0;32mfor\u001b[0m \u001b[0mncfg_key\u001b[0m\u001b[0;34m,\u001b[0m \u001b[0mvalue\u001b[0m \u001b[0;32min\u001b[0m \u001b[0miterate_flattened\u001b[0m\u001b[0;34m(\u001b[0m\u001b[0mncfg_updates\u001b[0m\u001b[0;34m)\u001b[0m\u001b[0;34m:\u001b[0m\u001b[0;34m\u001b[0m\u001b[0;34m\u001b[0m\u001b[0m\n",
      "\u001b[0;32m~/repos/imitation/env/lib/python3.6/site-packages/sacred/initialize.py\u001b[0m in \u001b[0;36mrun_named_config\u001b[0;34m(self, config_name)\u001b[0m\n\u001b[1;32m     90\u001b[0m         cfg = nc(fixed=self.get_config_updates_recursive(),\n\u001b[1;32m     91\u001b[0m                  \u001b[0mpreset\u001b[0m\u001b[0;34m=\u001b[0m\u001b[0mself\u001b[0m\u001b[0;34m.\u001b[0m\u001b[0mpresets\u001b[0m\u001b[0;34m,\u001b[0m\u001b[0;34m\u001b[0m\u001b[0;34m\u001b[0m\u001b[0m\n\u001b[0;32m---> 92\u001b[0;31m                  fallback=self.fallback)\n\u001b[0m\u001b[1;32m     93\u001b[0m \u001b[0;34m\u001b[0m\u001b[0m\n\u001b[1;32m     94\u001b[0m         \u001b[0;32mreturn\u001b[0m \u001b[0mundogmatize\u001b[0m\u001b[0;34m(\u001b[0m\u001b[0mcfg\u001b[0m\u001b[0;34m)\u001b[0m\u001b[0;34m\u001b[0m\u001b[0;34m\u001b[0m\u001b[0m\n",
      "\u001b[0;32m~/repos/imitation/env/lib/python3.6/site-packages/sacred/config/config_scope.py\u001b[0m in \u001b[0;36m__call__\u001b[0;34m(self, fixed, preset, fallback)\u001b[0m\n\u001b[1;32m     66\u001b[0m                 raise KeyError(\"'{}' not in preset for ConfigScope. \"\n\u001b[1;32m     67\u001b[0m                                \u001b[0;34m\"Available options are: {}\"\u001b[0m\u001b[0;34m\u001b[0m\u001b[0;34m\u001b[0m\u001b[0m\n\u001b[0;32m---> 68\u001b[0;31m                                .format(arg, available_entries))\n\u001b[0m\u001b[1;32m     69\u001b[0m             \u001b[0;32mif\u001b[0m \u001b[0marg\u001b[0m \u001b[0;32min\u001b[0m \u001b[0mpreset\u001b[0m\u001b[0;34m:\u001b[0m\u001b[0;34m\u001b[0m\u001b[0;34m\u001b[0m\u001b[0m\n\u001b[1;32m     70\u001b[0m                 \u001b[0mcfg_locals\u001b[0m\u001b[0;34m[\u001b[0m\u001b[0marg\u001b[0m\u001b[0;34m]\u001b[0m \u001b[0;34m=\u001b[0m \u001b[0mpreset\u001b[0m\u001b[0;34m[\u001b[0m\u001b[0marg\u001b[0m\u001b[0;34m]\u001b[0m\u001b[0;34m\u001b[0m\u001b[0;34m\u001b[0m\u001b[0m\n",
      "\u001b[0;31mKeyError\u001b[0m: \"'init_trainer_kwargs' not in preset for ConfigScope. Available options are: {'_log'}\""
     ]
    }
   ],
   "source": [
    "tf.logging.set_verbosity(tf.logging.INFO)\n",
    "\n",
    "try:\n",
    "    tf.reset_default_graph()\n",
    "except:\n",
    "    pass\n",
    "\n",
    "res = train_exp.run(config_updates=dict(n_epochs_per_plot=1, n_episodes_per_reward_data=1),\n",
    "                    named_configs=['cartpole_gail'])"
   ]
  },
  {
   "cell_type": "code",
   "execution_count": null,
   "metadata": {},
   "outputs": [],
   "source": []
  }
 ],
 "metadata": {
  "kernelspec": {
   "display_name": "Python 3",
   "language": "python",
   "name": "python3"
  },
  "language_info": {
   "codemirror_mode": {
    "name": "ipython",
    "version": 3
   },
   "file_extension": ".py",
   "mimetype": "text/x-python",
   "name": "python",
   "nbconvert_exporter": "python",
   "pygments_lexer": "ipython3",
   "version": "3.6.8"
  }
 },
 "nbformat": 4,
 "nbformat_minor": 1
}
